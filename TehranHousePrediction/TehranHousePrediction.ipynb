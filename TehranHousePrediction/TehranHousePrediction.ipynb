{
 "cells": [
  {
   "cell_type": "markdown",
   "id": "1c79e7b9-fcb2-468c-9ad2-c140c500791c",
   "metadata": {},
   "source": [
    "# Introduction\n",
    "\n",
    "In this notebook, we explore and analyze a dataset of residential properties in Tehran with the goal of building a machine learning model to predict house prices based on several key features. Accurate house price prediction can be beneficial for both buyers and sellers, offering insights into the factors that most influence property values in the Tehran real estate market.\n",
    "\n",
    "#### Dataset Description\n",
    "\n",
    "The dataset contains several features that describe different characteristics of properties:\n",
    "- **Area**: The total area of the property in square meters.\n",
    "- **Room**: The number of rooms in the property.\n",
    "- **Parking**: Indicates whether the property has parking space (1 for yes, 0 for no).\n",
    "- **Warehouse**: Indicates whether the property includes a warehouse (1 for yes, 0 for no).\n",
    "- **Elevator**: Indicates the presence of an elevator in the building (1 for yes, 0 for no).\n",
    "- **Address**: The neighborhood or region where the property is located.\n",
    "- **Price**: The price of the property in Iranian Rials (IRR), which is the target variable.\n",
    "\n",
    "In the following sections, we will clean and preprocess the data, perform exploratory data analysis (EDA) to gain insights, and then build a predictive model using linear regression. The model will be trained on a subset of the data and evaluated on its ability to predict house prices."
   ]
  },
  {
   "cell_type": "markdown",
   "id": "7ab3b075-b382-4166-909b-959b058d4859",
   "metadata": {},
   "source": [
    "# Imports and Library Setup"
   ]
  },
  {
   "cell_type": "code",
   "execution_count": 24,
   "id": "03aa53ae-e966-4b16-8a69-3d08513e9a11",
   "metadata": {},
   "outputs": [],
   "source": [
    "import matplotlib.pyplot as plt\n",
    "import numpy as np\n",
    "import pandas as pd\n",
    "import seaborn as sns\n",
    "from sklearn.linear_model import LinearRegression\n",
    "from sklearn.compose import ColumnTransformer\n",
    "from sklearn.preprocessing import OneHotEncoder\n",
    "from sklearn.pipeline import Pipeline\n",
    "from sklearn.impute import SimpleImputer"
   ]
  },
  {
   "cell_type": "markdown",
   "id": "d2d92db0-dc0b-409e-8fac-db68c6f09fb7",
   "metadata": {},
   "source": [
    "# Reading Data"
   ]
  },
  {
   "cell_type": "code",
   "execution_count": 27,
   "id": "52f9ef90-bc9e-464b-a8e9-e0767c2d0434",
   "metadata": {},
   "outputs": [
    {
     "name": "stdout",
     "output_type": "stream",
     "text": [
      "Index(['Area', 'Room', 'Parking', 'Warehouse', 'Elevator', 'Address', 'Price',\n",
      "       'Price(USD)'],\n",
      "      dtype='object')\n"
     ]
    }
   ],
   "source": [
    "df = pd.read_csv(\"data.csv\")\n",
    "print(df.columns)"
   ]
  },
  {
   "cell_type": "code",
   "execution_count": 29,
   "id": "55dec523-1225-4c4b-8da7-e231e6958df6",
   "metadata": {},
   "outputs": [
    {
     "data": {
      "text/html": [
       "<div>\n",
       "<style scoped>\n",
       "    .dataframe tbody tr th:only-of-type {\n",
       "        vertical-align: middle;\n",
       "    }\n",
       "\n",
       "    .dataframe tbody tr th {\n",
       "        vertical-align: top;\n",
       "    }\n",
       "\n",
       "    .dataframe thead th {\n",
       "        text-align: right;\n",
       "    }\n",
       "</style>\n",
       "<table border=\"1\" class=\"dataframe\">\n",
       "  <thead>\n",
       "    <tr style=\"text-align: right;\">\n",
       "      <th></th>\n",
       "      <th>Area</th>\n",
       "      <th>Room</th>\n",
       "      <th>Parking</th>\n",
       "      <th>Warehouse</th>\n",
       "      <th>Elevator</th>\n",
       "      <th>Address</th>\n",
       "      <th>Price</th>\n",
       "      <th>Price(USD)</th>\n",
       "    </tr>\n",
       "  </thead>\n",
       "  <tbody>\n",
       "    <tr>\n",
       "      <th>0</th>\n",
       "      <td>63</td>\n",
       "      <td>1</td>\n",
       "      <td>True</td>\n",
       "      <td>True</td>\n",
       "      <td>True</td>\n",
       "      <td>Shahran</td>\n",
       "      <td>1.850000e+09</td>\n",
       "      <td>61666.67</td>\n",
       "    </tr>\n",
       "    <tr>\n",
       "      <th>1</th>\n",
       "      <td>60</td>\n",
       "      <td>1</td>\n",
       "      <td>True</td>\n",
       "      <td>True</td>\n",
       "      <td>True</td>\n",
       "      <td>Shahran</td>\n",
       "      <td>1.850000e+09</td>\n",
       "      <td>61666.67</td>\n",
       "    </tr>\n",
       "    <tr>\n",
       "      <th>2</th>\n",
       "      <td>79</td>\n",
       "      <td>2</td>\n",
       "      <td>True</td>\n",
       "      <td>True</td>\n",
       "      <td>True</td>\n",
       "      <td>Pardis</td>\n",
       "      <td>5.500000e+08</td>\n",
       "      <td>18333.33</td>\n",
       "    </tr>\n",
       "    <tr>\n",
       "      <th>3</th>\n",
       "      <td>95</td>\n",
       "      <td>2</td>\n",
       "      <td>True</td>\n",
       "      <td>True</td>\n",
       "      <td>True</td>\n",
       "      <td>Shahrake Qods</td>\n",
       "      <td>9.025000e+08</td>\n",
       "      <td>30083.33</td>\n",
       "    </tr>\n",
       "    <tr>\n",
       "      <th>4</th>\n",
       "      <td>123</td>\n",
       "      <td>2</td>\n",
       "      <td>True</td>\n",
       "      <td>True</td>\n",
       "      <td>True</td>\n",
       "      <td>Shahrake Gharb</td>\n",
       "      <td>7.000000e+09</td>\n",
       "      <td>233333.33</td>\n",
       "    </tr>\n",
       "    <tr>\n",
       "      <th>5</th>\n",
       "      <td>70</td>\n",
       "      <td>2</td>\n",
       "      <td>True</td>\n",
       "      <td>True</td>\n",
       "      <td>False</td>\n",
       "      <td>North Program Organization</td>\n",
       "      <td>2.050000e+09</td>\n",
       "      <td>68333.33</td>\n",
       "    </tr>\n",
       "    <tr>\n",
       "      <th>6</th>\n",
       "      <td>87</td>\n",
       "      <td>2</td>\n",
       "      <td>True</td>\n",
       "      <td>True</td>\n",
       "      <td>True</td>\n",
       "      <td>Pardis</td>\n",
       "      <td>6.000000e+08</td>\n",
       "      <td>20000.00</td>\n",
       "    </tr>\n",
       "    <tr>\n",
       "      <th>7</th>\n",
       "      <td>59</td>\n",
       "      <td>1</td>\n",
       "      <td>True</td>\n",
       "      <td>True</td>\n",
       "      <td>True</td>\n",
       "      <td>Shahran</td>\n",
       "      <td>2.150000e+09</td>\n",
       "      <td>71666.67</td>\n",
       "    </tr>\n",
       "    <tr>\n",
       "      <th>8</th>\n",
       "      <td>54</td>\n",
       "      <td>2</td>\n",
       "      <td>True</td>\n",
       "      <td>True</td>\n",
       "      <td>False</td>\n",
       "      <td>Andisheh</td>\n",
       "      <td>4.930000e+08</td>\n",
       "      <td>16433.33</td>\n",
       "    </tr>\n",
       "  </tbody>\n",
       "</table>\n",
       "</div>"
      ],
      "text/plain": [
       "  Area  Room  Parking  Warehouse  Elevator                     Address  \\\n",
       "0   63     1     True       True      True                     Shahran   \n",
       "1   60     1     True       True      True                     Shahran   \n",
       "2   79     2     True       True      True                      Pardis   \n",
       "3   95     2     True       True      True               Shahrake Qods   \n",
       "4  123     2     True       True      True              Shahrake Gharb   \n",
       "5   70     2     True       True     False  North Program Organization   \n",
       "6   87     2     True       True      True                      Pardis   \n",
       "7   59     1     True       True      True                     Shahran   \n",
       "8   54     2     True       True     False                    Andisheh   \n",
       "\n",
       "          Price  Price(USD)  \n",
       "0  1.850000e+09    61666.67  \n",
       "1  1.850000e+09    61666.67  \n",
       "2  5.500000e+08    18333.33  \n",
       "3  9.025000e+08    30083.33  \n",
       "4  7.000000e+09   233333.33  \n",
       "5  2.050000e+09    68333.33  \n",
       "6  6.000000e+08    20000.00  \n",
       "7  2.150000e+09    71666.67  \n",
       "8  4.930000e+08    16433.33  "
      ]
     },
     "execution_count": 29,
     "metadata": {},
     "output_type": "execute_result"
    }
   ],
   "source": [
    "df.head(9)"
   ]
  },
  {
   "cell_type": "markdown",
   "id": "79f8888b-b739-4fd8-84cd-0646ac038758",
   "metadata": {},
   "source": [
    "# Data Cleaning and Preprocessing\n",
    "I cleaned the data by handling column types (e.g., converting strings to floats and integers) and applying filters to remove outliers or irrelevant entries"
   ]
  },
  {
   "cell_type": "code",
   "execution_count": 32,
   "id": "18cd56a2-4b20-4cdf-a97b-5bb502bdce6b",
   "metadata": {},
   "outputs": [],
   "source": [
    "df[\"Area\"] = df[\"Area\"].astype(str)\n",
    "df[\"Area\"] = df[\"Area\"].str.replace(\",\" , \"\").astype(float)\n",
    "\n",
    "df[\"Parking\"] = df[\"Parking\"].astype(int)\n",
    "df[\"Warehouse\"] = df[\"Warehouse\"].astype(int)\n",
    "df[\"Elevator\"] = df[\"Elevator\"].astype(int)\n",
    "\n",
    "df = df[df[\"Area\"] < 1000]"
   ]
  },
  {
   "cell_type": "markdown",
   "id": "ad25dc8c-1ceb-4dcd-ae9c-2d6299b0d440",
   "metadata": {},
   "source": [
    "## Exploratory Data Analysis (EDA) - Price Distribution\n",
    "Visualizes the distribution of property prices to understand the overall spread and identify trends or outliers in the price data."
   ]
  },
  {
   "cell_type": "code",
   "execution_count": 35,
   "id": "7e120937-3b0f-49ab-afbb-33d9cf08c7ec",
   "metadata": {},
   "outputs": [
    {
     "data": {
      "image/png": "[encoded data removed]",
      "text/plain": [
       "<Figure size 1000x600 with 1 Axes>"
      ]
     },
     "metadata": {},
     "output_type": "display_data"
    }
   ],
   "source": [
    "plt.figure(figsize=(10, 6))\n",
    "sns.histplot(df['Price'], bins=30, kde=True, color='blue')\n",
    "plt.title('Distribution of Property Prices')\n",
    "plt.xlabel('Price (IRR)')\n",
    "plt.ylabel('Frequency')\n",
    "plt.show()"
   ]
  },
  {
   "cell_type": "markdown",
   "id": "e33fe0e9-903e-480d-8d16-8f5ebe831c39",
   "metadata": {},
   "source": [
    "## EDA - Room Count vs Price\n",
    "This plot helps examine the relationship between the number of rooms and the property's price, indicating any trends or variations based on room count."
   ]
  },
  {
   "cell_type": "code",
   "execution_count": 37,
   "id": "4c13b670-a5fa-4220-9a97-e83145b9dadb",
   "metadata": {},
   "outputs": [
    {
     "name": "stderr",
     "output_type": "stream",
     "text": [
      "C:\\Users\\Rayamin\\AppData\\Local\\Temp\\ipykernel_13100\\264608343.py:2: FutureWarning: \n",
      "\n",
      "Passing `palette` without assigning `hue` is deprecated and will be removed in v0.14.0. Assign the `x` variable to `hue` and set `legend=False` for the same effect.\n",
      "\n",
      "  sns.boxplot(x='Room', y='Price', data=df, palette='Set3')\n"
     ]
    },
    {
     "data": {
      "image/png": "[encoded data removed]",
      "text/plain": [
       "<Figure size 1000x600 with 1 Axes>"
      ]
     },
     "metadata": {},
     "output_type": "display_data"
    }
   ],
   "source": [
    "plt.figure(figsize=(10, 6))\n",
    "sns.boxplot(x='Room', y='Price', data=df, palette='Set3')\n",
    "plt.title('Room Count vs. Price')\n",
    "plt.xlabel('Number of Rooms')\n",
    "plt.ylabel('Price (IRR)')\n",
    "plt.show()"
   ]
  },
  {
   "cell_type": "markdown",
   "id": "fbae8a8e-9182-4106-8691-c3f437c7a585",
   "metadata": {},
   "source": [
    "## EDA - Parking vs Price\n",
    "Visualizes how having parking space impacts the average property price, which can provide insights into the market value of parking in Tehran properties."
   ]
  },
  {
   "cell_type": "code",
   "execution_count": 41,
   "id": "32f241fc-9c5b-4850-b6d9-c86a24ba5831",
   "metadata": {},
   "outputs": [
    {
     "name": "stderr",
     "output_type": "stream",
     "text": [
      "C:\\Users\\Rayamin\\AppData\\Local\\Temp\\ipykernel_13100\\3508944314.py:2: FutureWarning: \n",
      "\n",
      "The `ci` parameter is deprecated. Use `errorbar=None` for the same effect.\n",
      "\n",
      "  sns.barplot(x='Parking', y='Price', data=df, palette='Set2', ci=None)\n",
      "C:\\Users\\Rayamin\\AppData\\Local\\Temp\\ipykernel_13100\\3508944314.py:2: FutureWarning: \n",
      "\n",
      "Passing `palette` without assigning `hue` is deprecated and will be removed in v0.14.0. Assign the `x` variable to `hue` and set `legend=False` for the same effect.\n",
      "\n",
      "  sns.barplot(x='Parking', y='Price', data=df, palette='Set2', ci=None)\n"
     ]
    },
    {
     "data": {
      "image/png": "[encoded data removed]",
      "text/plain": [
       "<Figure size 1000x600 with 1 Axes>"
      ]
     },
     "metadata": {},
     "output_type": "display_data"
    }
   ],
   "source": [
    "plt.figure(figsize=(10, 6))\n",
    "sns.barplot(x='Parking', y='Price', data=df, palette='Set2', ci=None)\n",
    "plt.title('Average Price by Parking Availability')\n",
    "plt.xlabel('Parking (1 = Yes, 0 = No)')\n",
    "plt.ylabel('Average Price (IRR)')\n",
    "plt.show()"
   ]
  },
  {
   "cell_type": "markdown",
   "id": "f630e8f6-3b69-4e3e-84c0-4cff11c1ad2a",
   "metadata": {},
   "source": [
    "# Feature Engineering and Preprocessing Pipeline\n",
    "I defined which features are numerical and categorical, and i set up pipelines to handle missing values and applied OneHotEncoding to categorical variables.This prepares the data for model training"
   ]
  },
  {
   "cell_type": "code",
   "execution_count": 44,
   "id": "f4d8f89a-ef03-46c2-b6d1-e8fba6062204",
   "metadata": {},
   "outputs": [],
   "source": [
    "X = df.drop(columns = [\"Price\" , \"Price(USD)\"])\n",
    "y = df[\"Price\"]\n",
    "\n",
    "numerical_features =[\"Area\" , \"Room\"]\n",
    "numerical_transformer = SimpleImputer(strategy = \"mean\")\n",
    "\n",
    "categorical_features = [\"Parking\" , \"Warehouse\" , \"Elevator\" , \"Address\"]\n",
    "categorical_transformer = Pipeline(steps = [(\"imputer\" , SimpleImputer(strategy = \"most_frequent\")) , \n",
    "                                              (\"onehot\" , OneHotEncoder(handle_unknown = \"ignore\"))])\n",
    "\n",
    "preprocessor = ColumnTransformer(\n",
    "    transformers=[\n",
    "        ('num', numerical_transformer, numerical_features),\n",
    "        ('cat', categorical_transformer, categorical_features)\n",
    "    ])"
   ]
  },
  {
   "cell_type": "markdown",
   "id": "6000a380-4dd5-40b5-8f1f-203eb0d3aae3",
   "metadata": {},
   "source": [
    "# Train-Test Split\n",
    "The dataset is split into training and testing subsets, where 80% of the data is used for training and 20% for testing the model"
   ]
  },
  {
   "cell_type": "code",
   "execution_count": 47,
   "id": "391e73e2-9e14-414b-b186-a8e72a27000f",
   "metadata": {},
   "outputs": [],
   "source": [
    "msk = np.random.rand(len(df)) < 0.8\n",
    "train = df[msk]\n",
    "test = df[~msk] \n",
    "\n",
    "train_x = train[[\"Parking\", \"Warehouse\", \"Elevator\", \"Address\", \"Area\", \"Room\"]]\n",
    "train_y = train[\"Price\"]\n",
    "\n",
    "test_x = test[[\"Parking\", \"Warehouse\", \"Elevator\", \"Address\", \"Area\", \"Room\"]]\n",
    "test_y = test[\"Price\"]"
   ]
  },
  {
   "cell_type": "markdown",
   "id": "cdb6d52c-79f8-4d9a-9704-1c5707c478ab",
   "metadata": {},
   "source": [
    "# Linear Regression Model Training\n",
    "This section fits a linear regression model to the training data, incorporating the preprocessor pipeline to handle the transformations. The model coefficients and intercept are printed for interpretation."
   ]
  },
  {
   "cell_type": "code",
   "execution_count": 50,
   "id": "1b73ad6a-a9ed-412f-b0bc-2475d3670e62",
   "metadata": {},
   "outputs": [
    {
     "name": "stdout",
     "output_type": "stream",
     "text": [
      "Coef [ 7.04003531e+07  4.06500017e+08  2.54747698e+08 -2.54747698e+08\n",
      "  6.00333087e+07 -6.00333087e+07  1.29063652e+08 -1.29063652e+08\n",
      "  3.01415275e+09  6.84825401e+08 -2.91041233e+10  7.62284074e+07\n",
      " -1.07648382e+09  2.07710728e+08 -8.44654313e+08  2.95463760e+09\n",
      " -6.83091162e+08 -1.53709412e+09 -5.03270624e+08 -3.51184992e+09\n",
      " -5.98106605e+08 -3.11419663e+09  7.25270979e+09  1.99354655e+09\n",
      " -1.66503253e+09 -1.99341850e+09 -2.43351533e+09  2.75904213e+07\n",
      " -3.49538864e+08 -3.50879958e+09 -2.42798379e+09 -3.41430397e+08\n",
      " -1.15815029e+09  6.90968414e+08 -6.80118505e+09  1.16408806e+08\n",
      "  2.09303963e+09 -1.31374815e+10  2.51799435e+09  8.41610006e+08\n",
      "  1.90283950e+09 -1.32197270e+09 -1.49717219e+09  4.42289295e+09\n",
      " -3.50840518e+08  9.45645385e+09  5.57162357e+08 -7.84991567e+07\n",
      "  1.63985572e+09  3.08576375e+09  1.38534435e+10 -2.83779000e+08\n",
      " -2.06591795e+08 -2.22131789e+09  6.15613023e+08  8.32860337e+06\n",
      "  9.22292310e+09 -8.19401649e+08  2.46704037e+08 -2.19688494e+09\n",
      "  3.65430318e+10  6.97655068e+08  3.80286451e+09 -1.83944390e+09\n",
      "  2.42790112e+09  1.39727514e+09 -1.54549685e+09 -2.30755104e+09\n",
      " -5.91799868e+07  1.10155289e+07  5.05076961e+09  1.05478978e+09\n",
      " -3.47657666e+09 -9.63653428e+08 -2.04701688e+09 -4.01247428e+09\n",
      " -1.15972687e+09 -3.78960206e+08  6.73586187e+08 -3.26934085e+09\n",
      "  1.03345892e+10 -1.56760147e+08 -1.05908913e+08 -9.47220609e+08\n",
      " -1.35886728e+09 -4.35682435e+09 -3.56164031e+08  3.66834888e+08\n",
      " -3.96270753e+08  2.94727349e+07  2.52557171e+10  1.78546967e+08\n",
      "  6.01924785e+08  3.55122813e+09 -2.10653874e+09 -1.74097584e+09\n",
      "  1.13284607e+09 -3.69142644e+09  4.32470961e+07  4.79366208e+09\n",
      " -1.40050667e+09  1.06810066e+09  4.37801850e+08 -8.03069541e+08\n",
      "  2.27243021e+08 -8.73987389e+08  1.08665665e+10  1.86613285e+09\n",
      " -2.22582610e+09  3.23359385e+08  3.02920946e+08 -9.44335909e+07\n",
      " -2.15546437e+08  2.41975546e+09 -4.38651094e+09 -2.78606174e+09\n",
      " -2.47757213e+09  2.50281740e+08 -3.06882265e+09  2.31990329e+09\n",
      " -1.98934549e+09 -2.57998103e+08 -2.67213368e+09  6.75770895e+08\n",
      " -1.27099793e+09 -3.95983704e+09  7.29420413e+07 -1.32361944e+09\n",
      " -7.78855178e+08 -1.21452949e+09  9.57568643e+08  1.11658317e+09\n",
      " -1.38834206e+09 -8.25523827e+08 -5.31165598e+08 -3.74098183e+09\n",
      "  3.58758402e+09 -1.15629202e+09 -8.91025289e+08 -3.21770217e+09\n",
      " -4.45671630e+09 -3.31083336e+08  2.85729241e+08 -8.27019993e+08\n",
      " -5.30072720e+08 -8.26717328e+09 -6.19297663e+07 -6.83481138e+08\n",
      " -6.99221555e+08 -1.40307989e+09  5.51371034e+09 -3.70556829e+09\n",
      " -2.61552021e+09 -3.40424713e+09 -5.87616863e+08  1.97948344e+09\n",
      "  2.67301618e+08 -2.97202393e+09  5.52309378e+08  6.37794412e+08\n",
      " -5.22507881e+07  7.00838951e+08 -4.10560471e+09  5.29542289e+08\n",
      "  7.68790926e+08  5.34916547e+09 -4.77812660e+08 -4.98472987e+08\n",
      " -9.28797284e+08 -1.17834720e+09 -1.91134240e+09 -2.02737177e+08\n",
      " -3.31245409e+08  4.81182446e+08 -3.03875480e+09 -8.15144139e+08\n",
      "  1.98703533e+10 -4.74784911e+10  1.12688001e+10 -3.49553287e+08\n",
      " -7.93353395e+08  7.62668971e+08 -7.05999955e+08 -1.65459676e+09\n",
      " -1.38937206e+09  1.74247646e+09  3.00530402e+09  1.26908173e+10\n",
      "  2.43207889e+09 -7.11661926e+08]\n",
      "intercept -3437197970.8675623\n"
     ]
    }
   ],
   "source": [
    "model = Pipeline(steps=[('preprocessor', preprocessor),\n",
    "                        ('regressor', LinearRegression())])\n",
    "model.fit(train_x, train_y)\n",
    "\n",
    "print(\"Coef\" , model.named_steps['regressor'].coef_)\n",
    "print(\"intercept\" , model.named_steps['regressor'].intercept_)\n"
   ]
  },
  {
   "cell_type": "markdown",
   "id": "e9c62b56-7e5d-4bfb-abdd-bc13dbf47e29",
   "metadata": {},
   "source": [
    "# Model Evaluation\n",
    "evaluating the performance of the trained linear regression model on the test data. It calculates key metrics such as MAE, MSE, and R², which help in understanding how well the model predicts house prices."
   ]
  },
  {
   "cell_type": "code",
   "execution_count": 53,
   "id": "388cdfb3-5cc7-4d0a-bbfa-2864df314ea5",
   "metadata": {},
   "outputs": [
    {
     "name": "stdout",
     "output_type": "stream",
     "text": [
      "MAE : 1908385060.23\n",
      "MSE : 11620996626412945408.00\n",
      "R2_score : 0.78\n"
     ]
    }
   ],
   "source": [
    "from sklearn.metrics import r2_score\n",
    "y_pred = model.predict(test_x)\n",
    "\n",
    "print(\"MAE : %.2f\" % np.mean(np.absolute(y_pred - test_y)))\n",
    "print(\"MSE : %.2f\" % np.mean((y_pred - test_y)**2))\n",
    "print(\"R2_score : %.2f\" % r2_score(test_y , y_pred))\n"
   ]
  },
  {
   "cell_type": "markdown",
   "id": "18218840-1b0c-4e9d-a03d-a1af79d4280d",
   "metadata": {},
   "source": [
    "## Custom Prediction Function\n",
    "This is a custom function that takes user inputs for house features (e.g., area, room, address, parking) and uses the trained model to predict the house price. An example prediction for a house in \"Shahran\" is shown, illustrating how to use the model for real-world prediction"
   ]
  },
  {
   "cell_type": "code",
   "execution_count": 56,
   "id": "63031447-3ed2-4579-ab2b-cfa6879eabee",
   "metadata": {},
   "outputs": [
    {
     "name": "stdout",
     "output_type": "stream",
     "text": [
      "predicted price :$1904469510.44\n"
     ]
    }
   ],
   "source": [
    "def predict_house_price(model , area, room, address, parking, warehouse, elevator):\n",
    "    data = pd.DataFrame({\n",
    "        \"Area\":[area],\n",
    "        \"Room\":[room],\n",
    "        \"Address\":[address],\n",
    "        \"Parking\":[int(parking)],\n",
    "        \"Warehouse\":[int(warehouse)],\n",
    "        \"Elevator\":[ int(elevator)]\n",
    "    })\n",
    "    predicted_price=model.predict(data)\n",
    "    return predicted_price[0]\n",
    "\n",
    "\n",
    "area =60\n",
    "room = 1\n",
    "address= \"Shahran\"\n",
    "parking= False\n",
    "warehouse= False\n",
    "elevator = False\n",
    "\n",
    "predicred_price=predict_house_price(model ,area, room, address, parking, warehouse, elevator )\n",
    "print(f\"predicted price :${predicred_price:.2f}\")"
   ]
  },
  {
   "cell_type": "markdown",
   "id": "88356e06-9e68-486f-9a7e-17359c9b46d4",
   "metadata": {},
   "source": [
    "# Conclusion\n",
    "\n",
    "In this project, we successfully built a machine learning model to predict house prices in Tehran based on key property features. By exploring the dataset, we identified important factors such as area, room count, and the presence of amenities like parking, a warehouse, and an elevator, all of which play a significant role in determining property prices.\n",
    "\n",
    "We used linear regression as our predictive model and evaluated its performance using metrics such as Mean Absolute Error (MAE), Mean Squared Error (MSE), and the R² score. These metrics helped us assess the accuracy of the model, with reasonably good predictions for unseen data.\n",
    "\n",
    "Additionally, we implemented a custom prediction function that allows users to input specific property details and obtain price estimates, which could be useful for real estate stakeholders.\n",
    "\n",
    "In future work, we could explore other machine learning algorithms, like decision trees or random forests, to see if they offer better predictive performance. Moreover, using additional data or incorporating external factors like market trends could further enhance the accuracy of the predictions."
   ]
  }
 ],
 "metadata": {
  "kernelspec": {
   "display_name": "Python 3 (ipykernel)",
   "language": "python",
   "name": "python3"
  },
  "language_info": {
   "codemirror_mode": {
    "name": "ipython",
    "version": 3
   },
   "file_extension": ".py",
   "mimetype": "text/x-python",
   "name": "python",
   "nbconvert_exporter": "python",
   "pygments_lexer": "ipython3",
   "version": "3.11.4"
  }
 },
 "nbformat": 4,
 "nbformat_minor": 5
}
