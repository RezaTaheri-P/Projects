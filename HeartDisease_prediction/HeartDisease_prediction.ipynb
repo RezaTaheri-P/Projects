{
 "cells": [
  {
   "cell_type": "markdown",
   "id": "698849c5-1161-439e-9646-fa8d3aaaeaab",
   "metadata": {},
   "source": [
    "# **Heart Disease Prediction Project**\n",
    "\n",
    "## **Introduction**\n",
    "\n",
    "Heart disease is one of the leading causes of death globally, and early detection can significantly improve patient outcomes. In this project, we build a machine learning model to predict the likelihood of heart disease based on various medical and demographic attributes. Using a dataset that contains information about patients and their heart health, we aim to develop a predictive model that can assist healthcare professionals in identifying individuals at risk.\n",
    "\n",
    "### **Dataset Overview**\n",
    "\n",
    "The dataset used in this project, `HeartDiseaseDataset.csv`, contains various features related to patient demographics, medical history, and test results. Each row represents a unique patient, and each column represents a specific attribute that can contribute to the prediction of heart disease.\n",
    "\n",
    "the Dataset used in this project can be found at:number of major vessels (0-3) colored by flourosopy\r\n",
    "thal: 0 = normal; 1 = fixed defect; 2 = reversable defect\n",
    "\n",
    "Here are the key features:\n",
    "\n",
    "1. **Age**: The age of the patient in years.\n",
    "2. **Sex**: The gender of the patient (`1` = male, `0` = female).\n",
    "3. **ChestPainType**: Describes the type of chest pain experienced by the patient:\n",
    "   - `0`: Typical angina\n",
    "   - `1`: Atypical angina\n",
    "   - `2`: Non-anginal pain\n",
    "   - `3`: Asymptomatic\n",
    "4. **RestingBP**: Resting blood pressure measured in mm Hg.\n",
    "5. **Cholesterol**: Serum cholesterol level in mg/dL.\n",
    "6. **FastingBS**: Fasting blood sugar (`1` if > 120 mg/dL, `0` otherwise).\n",
    "7. **RestingECG**: Resting electrocardiographic results:\n",
    "   - `0`: Normal\n",
    "   - `1`: ST-T wave abnormality\n",
    "   - `2`: Left ventricular hypertrophy\n",
    "8. **MaxHR**: Maximum heart rate achieved during physical activity.\n",
    "9. **ExerciseAngina**: Whether the patient experiences angina during exercise (`1` = yes, `0` = no).\n",
    "10. **Oldpeak**: ST depression induced by exercise relative to rest (measured in mm).\n",
    "11. **ST_Slope**: The slope of the peak exercise ST segment:\n",
    "    - `0`: Upsloping\n",
    "    - `1`: Flat\n",
    "    - `2`: Downsloping\n",
    "12. **number of major vessels** :0-3 colored by flourosopy\r",
    "13. **\n",
    "tha**:: 0 = normal; 1 = fixed defect; 2 = reversable defect\n",
    "42. **Target (Heart Disease Status)**: The target variable indicating the presence of heart disease (`1` = heart disease, `0` = no heart disease).\n",
    "\n",
    "### **Project Objective**\n",
    "\n",
    "The goal of this project is to develop a machine learning model that can accurately predict whether a patient is at risk for heart disease based on these medical attributes. We will explore various machine learning algorithms, train them on the data, and evaluate their performance. Finally, we will create a function that can be used to predict heart disease risk for new patients based on their medical data."
   ]
  },
  {
   "cell_type": "markdown",
   "id": "78bc4e53-227f-4807-ad01-432bbb05f528",
   "metadata": {},
   "source": [
    "# Importing Libraries"
   ]
  },
  {
   "cell_type": "code",
   "execution_count": 1,
   "id": "b22520b9-da72-4662-965b-0b4131ffbfac",
   "metadata": {},
   "outputs": [],
   "source": [
    "import pandas as pd\n",
    "import numpy as np\n",
    "import matplotlib.pyplot as plt\n",
    "from sklearn.neighbors import KNeighborsClassifier\n",
    "from sklearn.linear_model import LogisticRegression\n",
    "from sklearn import svm\n",
    "from sklearn import metrics\n",
    "from sklearn.preprocessing import StandardScaler\n",
    "from sklearn.preprocessing import LabelEncoder\n",
    "from sklearn.model_selection import train_test_split"
   ]
  },
  {
   "cell_type": "markdown",
   "id": "eb4ba0b0-6cf8-4073-b095-526cb462c043",
   "metadata": {},
   "source": [
    "# Data Reading"
   ]
  },
  {
   "cell_type": "code",
   "execution_count": 3,
   "id": "6387e8c3-c13a-42c6-b759-a1eadb654c2e",
   "metadata": {},
   "outputs": [
    {
     "data": {
      "text/html": [
       "<div>\n",
       "<style scoped>\n",
       "    .dataframe tbody tr th:only-of-type {\n",
       "        vertical-align: middle;\n",
       "    }\n",
       "\n",
       "    .dataframe tbody tr th {\n",
       "        vertical-align: top;\n",
       "    }\n",
       "\n",
       "    .dataframe thead th {\n",
       "        text-align: right;\n",
       "    }\n",
       "</style>\n",
       "<table border=\"1\" class=\"dataframe\">\n",
       "  <thead>\n",
       "    <tr style=\"text-align: right;\">\n",
       "      <th></th>\n",
       "      <th>age</th>\n",
       "      <th>sex</th>\n",
       "      <th>cp</th>\n",
       "      <th>trtbps</th>\n",
       "      <th>chol</th>\n",
       "      <th>fbs</th>\n",
       "      <th>restecg</th>\n",
       "      <th>thalachh</th>\n",
       "      <th>exng</th>\n",
       "      <th>oldpeak</th>\n",
       "      <th>slp</th>\n",
       "      <th>caa</th>\n",
       "      <th>thall</th>\n",
       "      <th>output</th>\n",
       "    </tr>\n",
       "  </thead>\n",
       "  <tbody>\n",
       "    <tr>\n",
       "      <th>0</th>\n",
       "      <td>63</td>\n",
       "      <td>1</td>\n",
       "      <td>3</td>\n",
       "      <td>145</td>\n",
       "      <td>233</td>\n",
       "      <td>1</td>\n",
       "      <td>0</td>\n",
       "      <td>150</td>\n",
       "      <td>0</td>\n",
       "      <td>2.3</td>\n",
       "      <td>0</td>\n",
       "      <td>0</td>\n",
       "      <td>1</td>\n",
       "      <td>1</td>\n",
       "    </tr>\n",
       "    <tr>\n",
       "      <th>1</th>\n",
       "      <td>37</td>\n",
       "      <td>1</td>\n",
       "      <td>2</td>\n",
       "      <td>130</td>\n",
       "      <td>250</td>\n",
       "      <td>0</td>\n",
       "      <td>1</td>\n",
       "      <td>187</td>\n",
       "      <td>0</td>\n",
       "      <td>3.5</td>\n",
       "      <td>0</td>\n",
       "      <td>0</td>\n",
       "      <td>2</td>\n",
       "      <td>1</td>\n",
       "    </tr>\n",
       "    <tr>\n",
       "      <th>2</th>\n",
       "      <td>41</td>\n",
       "      <td>0</td>\n",
       "      <td>1</td>\n",
       "      <td>130</td>\n",
       "      <td>204</td>\n",
       "      <td>0</td>\n",
       "      <td>0</td>\n",
       "      <td>172</td>\n",
       "      <td>0</td>\n",
       "      <td>1.4</td>\n",
       "      <td>2</td>\n",
       "      <td>0</td>\n",
       "      <td>2</td>\n",
       "      <td>1</td>\n",
       "    </tr>\n",
       "    <tr>\n",
       "      <th>3</th>\n",
       "      <td>56</td>\n",
       "      <td>1</td>\n",
       "      <td>1</td>\n",
       "      <td>120</td>\n",
       "      <td>236</td>\n",
       "      <td>0</td>\n",
       "      <td>1</td>\n",
       "      <td>178</td>\n",
       "      <td>0</td>\n",
       "      <td>0.8</td>\n",
       "      <td>2</td>\n",
       "      <td>0</td>\n",
       "      <td>2</td>\n",
       "      <td>1</td>\n",
       "    </tr>\n",
       "    <tr>\n",
       "      <th>4</th>\n",
       "      <td>57</td>\n",
       "      <td>0</td>\n",
       "      <td>0</td>\n",
       "      <td>120</td>\n",
       "      <td>354</td>\n",
       "      <td>0</td>\n",
       "      <td>1</td>\n",
       "      <td>163</td>\n",
       "      <td>1</td>\n",
       "      <td>0.6</td>\n",
       "      <td>2</td>\n",
       "      <td>0</td>\n",
       "      <td>2</td>\n",
       "      <td>1</td>\n",
       "    </tr>\n",
       "    <tr>\n",
       "      <th>5</th>\n",
       "      <td>57</td>\n",
       "      <td>1</td>\n",
       "      <td>0</td>\n",
       "      <td>140</td>\n",
       "      <td>192</td>\n",
       "      <td>0</td>\n",
       "      <td>1</td>\n",
       "      <td>148</td>\n",
       "      <td>0</td>\n",
       "      <td>0.4</td>\n",
       "      <td>1</td>\n",
       "      <td>0</td>\n",
       "      <td>1</td>\n",
       "      <td>1</td>\n",
       "    </tr>\n",
       "    <tr>\n",
       "      <th>6</th>\n",
       "      <td>56</td>\n",
       "      <td>0</td>\n",
       "      <td>1</td>\n",
       "      <td>140</td>\n",
       "      <td>294</td>\n",
       "      <td>0</td>\n",
       "      <td>0</td>\n",
       "      <td>153</td>\n",
       "      <td>0</td>\n",
       "      <td>1.3</td>\n",
       "      <td>1</td>\n",
       "      <td>0</td>\n",
       "      <td>2</td>\n",
       "      <td>1</td>\n",
       "    </tr>\n",
       "    <tr>\n",
       "      <th>7</th>\n",
       "      <td>44</td>\n",
       "      <td>1</td>\n",
       "      <td>1</td>\n",
       "      <td>120</td>\n",
       "      <td>263</td>\n",
       "      <td>0</td>\n",
       "      <td>1</td>\n",
       "      <td>173</td>\n",
       "      <td>0</td>\n",
       "      <td>0.0</td>\n",
       "      <td>2</td>\n",
       "      <td>0</td>\n",
       "      <td>3</td>\n",
       "      <td>1</td>\n",
       "    </tr>\n",
       "    <tr>\n",
       "      <th>8</th>\n",
       "      <td>52</td>\n",
       "      <td>1</td>\n",
       "      <td>2</td>\n",
       "      <td>172</td>\n",
       "      <td>199</td>\n",
       "      <td>1</td>\n",
       "      <td>1</td>\n",
       "      <td>162</td>\n",
       "      <td>0</td>\n",
       "      <td>0.5</td>\n",
       "      <td>2</td>\n",
       "      <td>0</td>\n",
       "      <td>3</td>\n",
       "      <td>1</td>\n",
       "    </tr>\n",
       "  </tbody>\n",
       "</table>\n",
       "</div>"
      ],
      "text/plain": [
       "   age  sex  cp  trtbps  chol  fbs  restecg  thalachh  exng  oldpeak  slp  \\\n",
       "0   63    1   3     145   233    1        0       150     0      2.3    0   \n",
       "1   37    1   2     130   250    0        1       187     0      3.5    0   \n",
       "2   41    0   1     130   204    0        0       172     0      1.4    2   \n",
       "3   56    1   1     120   236    0        1       178     0      0.8    2   \n",
       "4   57    0   0     120   354    0        1       163     1      0.6    2   \n",
       "5   57    1   0     140   192    0        1       148     0      0.4    1   \n",
       "6   56    0   1     140   294    0        0       153     0      1.3    1   \n",
       "7   44    1   1     120   263    0        1       173     0      0.0    2   \n",
       "8   52    1   2     172   199    1        1       162     0      0.5    2   \n",
       "\n",
       "   caa  thall  output  \n",
       "0    0      1       1  \n",
       "1    0      2       1  \n",
       "2    0      2       1  \n",
       "3    0      2       1  \n",
       "4    0      2       1  \n",
       "5    0      1       1  \n",
       "6    0      2       1  \n",
       "7    0      3       1  \n",
       "8    0      3       1  "
      ]
     },
     "execution_count": 3,
     "metadata": {},
     "output_type": "execute_result"
    }
   ],
   "source": [
    "df = pd.read_csv(\"E:\\\\Learning\\\\Machine learning\\\\Jadi - Machine Learning\\\\Season 3 - فصل سوم طبقه بندی Classification\\\\Files\\\\16325569497737558.csv\")\n",
    "df.head(9)"
   ]
  },
  {
   "cell_type": "code",
   "execution_count": 5,
   "id": "461ca345-0428-4c72-8d49-aaa139b28bfe",
   "metadata": {},
   "outputs": [
    {
     "name": "stdout",
     "output_type": "stream",
     "text": [
      "<class 'pandas.core.frame.DataFrame'>\n",
      "RangeIndex: 303 entries, 0 to 302\n",
      "Data columns (total 14 columns):\n",
      " #   Column    Non-Null Count  Dtype  \n",
      "---  ------    --------------  -----  \n",
      " 0   age       303 non-null    int64  \n",
      " 1   sex       303 non-null    int64  \n",
      " 2   cp        303 non-null    int64  \n",
      " 3   trtbps    303 non-null    int64  \n",
      " 4   chol      303 non-null    int64  \n",
      " 5   fbs       303 non-null    int64  \n",
      " 6   restecg   303 non-null    int64  \n",
      " 7   thalachh  303 non-null    int64  \n",
      " 8   exng      303 non-null    int64  \n",
      " 9   oldpeak   303 non-null    float64\n",
      " 10  slp       303 non-null    int64  \n",
      " 11  caa       303 non-null    int64  \n",
      " 12  thall     303 non-null    int64  \n",
      " 13  output    303 non-null    int64  \n",
      "dtypes: float64(1), int64(13)\n",
      "memory usage: 33.3 KB\n"
     ]
    }
   ],
   "source": [
    "df.info()"
   ]
  },
  {
   "cell_type": "code",
   "execution_count": 7,
   "id": "9aa47176-7c41-4c9a-b875-d846f981c833",
   "metadata": {},
   "outputs": [
    {
     "name": "stdout",
     "output_type": "stream",
     "text": [
      "age         0\n",
      "sex         0\n",
      "cp          0\n",
      "trtbps      0\n",
      "chol        0\n",
      "fbs         0\n",
      "restecg     0\n",
      "thalachh    0\n",
      "exng        0\n",
      "oldpeak     0\n",
      "slp         0\n",
      "caa         0\n",
      "thall       0\n",
      "output      0\n",
      "dtype: int64\n",
      "output\n",
      "1    165\n",
      "0    138\n",
      "Name: count, dtype: int64\n"
     ]
    }
   ],
   "source": [
    "print(df.isna().sum())\n",
    "print(df[\"output\"].value_counts())"
   ]
  },
  {
   "cell_type": "code",
   "execution_count": 9,
   "id": "e03533dd-5a6f-4c74-b5ef-35aab2d78e4b",
   "metadata": {},
   "outputs": [
    {
     "data": {
      "text/plain": [
       "Index(['age', 'sex', 'cp', 'trtbps', 'chol', 'fbs', 'restecg', 'thalachh',\n",
       "       'exng', 'oldpeak', 'slp', 'caa', 'thall', 'output'],\n",
       "      dtype='object')"
      ]
     },
     "execution_count": 9,
     "metadata": {},
     "output_type": "execute_result"
    }
   ],
   "source": [
    "df.columns"
   ]
  },
  {
   "cell_type": "code",
   "execution_count": 11,
   "id": "271ad2cb-09b5-484c-aa4d-6f22f9a3052c",
   "metadata": {},
   "outputs": [
    {
     "data": {
      "image/png": "[encoded data removed]",
      "text/plain": [
       "<Figure size 640x480 with 1 Axes>"
      ]
     },
     "metadata": {},
     "output_type": "display_data"
    }
   ],
   "source": [
    "ax = df[df['output']==0][0:50].plot(kind = \"scatter\" , x = 'thall' , y = \"cp\" , color = \"darkblue\" , label= \"low chance\");\n",
    "df[df['output']==1][0:50].plot(kind = \"scatter\" , x = 'thall' , y = \"cp\" , color = \"yellow\" , label= \"high chance\" , ax=ax)\n",
    "plt.show()"
   ]
  },
  {
   "cell_type": "code",
   "execution_count": 12,
   "id": "c848e6cc-4db5-418a-b92b-1819f3d39268",
   "metadata": {},
   "outputs": [
    {
     "data": {
      "text/html": [
       "<div>\n",
       "<style scoped>\n",
       "    .dataframe tbody tr th:only-of-type {\n",
       "        vertical-align: middle;\n",
       "    }\n",
       "\n",
       "    .dataframe tbody tr th {\n",
       "        vertical-align: top;\n",
       "    }\n",
       "\n",
       "    .dataframe thead th {\n",
       "        text-align: right;\n",
       "    }\n",
       "</style>\n",
       "<table border=\"1\" class=\"dataframe\">\n",
       "  <thead>\n",
       "    <tr style=\"text-align: right;\">\n",
       "      <th></th>\n",
       "      <th>age</th>\n",
       "      <th>sex</th>\n",
       "      <th>cp</th>\n",
       "      <th>trtbps</th>\n",
       "      <th>chol</th>\n",
       "      <th>fbs</th>\n",
       "      <th>restecg</th>\n",
       "      <th>thalachh</th>\n",
       "      <th>exng</th>\n",
       "      <th>oldpeak</th>\n",
       "      <th>slp</th>\n",
       "      <th>caa</th>\n",
       "      <th>thall</th>\n",
       "    </tr>\n",
       "  </thead>\n",
       "  <tbody>\n",
       "    <tr>\n",
       "      <th>0</th>\n",
       "      <td>63</td>\n",
       "      <td>1</td>\n",
       "      <td>3</td>\n",
       "      <td>145</td>\n",
       "      <td>233</td>\n",
       "      <td>1</td>\n",
       "      <td>0</td>\n",
       "      <td>150</td>\n",
       "      <td>0</td>\n",
       "      <td>2.3</td>\n",
       "      <td>0</td>\n",
       "      <td>0</td>\n",
       "      <td>1</td>\n",
       "    </tr>\n",
       "    <tr>\n",
       "      <th>1</th>\n",
       "      <td>37</td>\n",
       "      <td>1</td>\n",
       "      <td>2</td>\n",
       "      <td>130</td>\n",
       "      <td>250</td>\n",
       "      <td>0</td>\n",
       "      <td>1</td>\n",
       "      <td>187</td>\n",
       "      <td>0</td>\n",
       "      <td>3.5</td>\n",
       "      <td>0</td>\n",
       "      <td>0</td>\n",
       "      <td>2</td>\n",
       "    </tr>\n",
       "    <tr>\n",
       "      <th>2</th>\n",
       "      <td>41</td>\n",
       "      <td>0</td>\n",
       "      <td>1</td>\n",
       "      <td>130</td>\n",
       "      <td>204</td>\n",
       "      <td>0</td>\n",
       "      <td>0</td>\n",
       "      <td>172</td>\n",
       "      <td>0</td>\n",
       "      <td>1.4</td>\n",
       "      <td>2</td>\n",
       "      <td>0</td>\n",
       "      <td>2</td>\n",
       "    </tr>\n",
       "    <tr>\n",
       "      <th>3</th>\n",
       "      <td>56</td>\n",
       "      <td>1</td>\n",
       "      <td>1</td>\n",
       "      <td>120</td>\n",
       "      <td>236</td>\n",
       "      <td>0</td>\n",
       "      <td>1</td>\n",
       "      <td>178</td>\n",
       "      <td>0</td>\n",
       "      <td>0.8</td>\n",
       "      <td>2</td>\n",
       "      <td>0</td>\n",
       "      <td>2</td>\n",
       "    </tr>\n",
       "    <tr>\n",
       "      <th>4</th>\n",
       "      <td>57</td>\n",
       "      <td>0</td>\n",
       "      <td>0</td>\n",
       "      <td>120</td>\n",
       "      <td>354</td>\n",
       "      <td>0</td>\n",
       "      <td>1</td>\n",
       "      <td>163</td>\n",
       "      <td>1</td>\n",
       "      <td>0.6</td>\n",
       "      <td>2</td>\n",
       "      <td>0</td>\n",
       "      <td>2</td>\n",
       "    </tr>\n",
       "  </tbody>\n",
       "</table>\n",
       "</div>"
      ],
      "text/plain": [
       "   age  sex  cp  trtbps  chol  fbs  restecg  thalachh  exng  oldpeak  slp  \\\n",
       "0   63    1   3     145   233    1        0       150     0      2.3    0   \n",
       "1   37    1   2     130   250    0        1       187     0      3.5    0   \n",
       "2   41    0   1     130   204    0        0       172     0      1.4    2   \n",
       "3   56    1   1     120   236    0        1       178     0      0.8    2   \n",
       "4   57    0   0     120   354    0        1       163     1      0.6    2   \n",
       "\n",
       "   caa  thall  \n",
       "0    0      1  \n",
       "1    0      2  \n",
       "2    0      2  \n",
       "3    0      2  \n",
       "4    0      2  "
      ]
     },
     "execution_count": 12,
     "metadata": {},
     "output_type": "execute_result"
    }
   ],
   "source": [
    "X=df.drop(columns = ['output'])\n",
    "y = np.asanyarray(df['output'])\n",
    "X[0:5]"
   ]
  },
  {
   "cell_type": "markdown",
   "id": "868b929e-4bc8-4516-83ed-9047a8f52947",
   "metadata": {},
   "source": [
    "# Data Preprocessing\n",
    "handling missing valuesand scaling numeric features using StandardScaler"
   ]
  },
  {
   "cell_type": "code",
   "execution_count": 15,
   "id": "6f1027c9-b113-4fb9-8f9f-0aaae158085d",
   "metadata": {},
   "outputs": [],
   "source": [
    "scaler = StandardScaler().fit(X)\n",
    "X = scaler.transform(X)\n",
    "X = np.asanyarray(X)"
   ]
  },
  {
   "cell_type": "markdown",
   "id": "5ba391db-2098-451d-bb1f-e20a42914e96",
   "metadata": {},
   "source": [
    "# Splitting the Data"
   ]
  },
  {
   "cell_type": "code",
   "execution_count": 17,
   "id": "69a2a2cb-caaa-4a34-824e-f0b9a82ef30f",
   "metadata": {},
   "outputs": [
    {
     "name": "stdout",
     "output_type": "stream",
     "text": [
      "train set: (242, 13) , (242,)\n",
      "test set: (61, 13) , (61,)\n"
     ]
    }
   ],
   "source": [
    "X_train , X_test , y_train , y_test = train_test_split(X , y , test_size = 0.2 , random_state = 4)\n",
    "print(f\"train set: {X_train.shape} , {y_train.shape}\")\n",
    "print(f\"test set: {X_test.shape} , {y_test.shape}\")"
   ]
  },
  {
   "cell_type": "markdown",
   "id": "46806c27-086e-4bc0-b758-f68979d0cf70",
   "metadata": {},
   "source": [
    "# SVM Model"
   ]
  },
  {
   "cell_type": "code",
   "execution_count": 20,
   "id": "e1defd87-8f87-40b1-94ad-d149fa42fd58",
   "metadata": {},
   "outputs": [
    {
     "name": "stdout",
     "output_type": "stream",
     "text": [
      "rbf :f1_socre = 0.87\n",
      "rbf :jaccard_score = 0.7838\n",
      "linear :f1_socre = 0.90\n",
      "linear :jaccard_score = 0.8421\n",
      "poly :f1_socre = 0.80\n",
      "poly :jaccard_score = 0.7143\n",
      "sigmoid :f1_socre = 0.88\n",
      "sigmoid :jaccard_score = 0.8250\n"
     ]
    }
   ],
   "source": [
    "kernels = [\"rbf\" , \"linear\" , \"poly\" , \"sigmoid\"]\n",
    "score_list={}\n",
    "for kernel in kernels:\n",
    "    clf = svm.SVC(kernel = kernel)\n",
    "    clf.fit(X_train , y_train)\n",
    "    yhat = clf.predict(X_test)\n",
    "    f1_s = metrics.f1_score(y_test , yhat , average = \"weighted\")\n",
    "    jac_s = metrics.jaccard_score(y_test , yhat , pos_label = 1)\n",
    "    score_list.update({kernel:f1_s})\n",
    "    print(kernel , \":f1_socre = %.2f\"%f1_s)\n",
    "    print(kernel , \":jaccard_score = %.4f\"%jac_s)\n",
    "    "
   ]
  },
  {
   "cell_type": "code",
   "execution_count": 22,
   "id": "cd273844-82dc-4e0b-b813-704a51b570dd",
   "metadata": {},
   "outputs": [
    {
     "name": "stdout",
     "output_type": "stream",
     "text": [
      "best kernel is linear with score:0.90\n"
     ]
    }
   ],
   "source": [
    "max_score = max(score_list.values())\n",
    "best_kernel = max(score_list , key=score_list.get)\n",
    "print(\"best kernel is\",best_kernel,\"with score:%.2f\"%max_score)"
   ]
  },
  {
   "cell_type": "code",
   "execution_count": 24,
   "id": "7738795b-929e-4184-8778-82ac11397ae0",
   "metadata": {},
   "outputs": [],
   "source": [
    "clf = svm.SVC(kernel = \"linear\")\n",
    "clf.fit(X_train , y_train)\n",
    "Svm_yhat = clf.predict(X_test)"
   ]
  },
  {
   "cell_type": "code",
   "execution_count": 26,
   "id": "70fb41e7-1945-4922-8158-b85caafeac9c",
   "metadata": {},
   "outputs": [],
   "source": [
    "from sklearn.metrics import classification_report, confusion_matrix\n",
    "import itertools\n",
    "def plot_confusion_matrix(cm, classes,\n",
    "                          normalize=False,\n",
    "                          title='Confusion matrix',\n",
    "                          cmap=plt.cm.Blues):\n",
    "    \"\"\"\n",
    "    This function prints and plots the confusion matrix.\n",
    "    Normalization can be applied by setting `normalize=True`.\n",
    "    \"\"\"\n",
    "    if normalize:\n",
    "        cm = cm.astype('float') / cm.sum(axis=1)[:, np.newaxis]\n",
    "        print(\"Normalized confusion matrix\")\n",
    "    else:\n",
    "        print('Confusion matrix, without normalization')\n",
    "\n",
    "    print(cm)\n",
    "\n",
    "    plt.imshow(cm, interpolation='nearest', cmap=cmap)\n",
    "    plt.title(title)\n",
    "    plt.colorbar()\n",
    "    tick_marks = np.arange(len(classes))\n",
    "    plt.xticks(tick_marks, classes, rotation=45)\n",
    "    plt.yticks(tick_marks, classes)\n",
    "\n",
    "    fmt = '.2f' if normalize else 'd'\n",
    "    thresh = cm.max() / 2.\n",
    "    for i, j in itertools.product(range(cm.shape[0]), range(cm.shape[1])):\n",
    "        plt.text(j, i, format(cm[i, j], fmt),\n",
    "                 horizontalalignment=\"center\",\n",
    "                 color=\"white\" if cm[i, j] > thresh else \"black\")\n",
    "\n",
    "    plt.tight_layout()\n",
    "    plt.ylabel('True label')\n",
    "    plt.xlabel('Predicted label')"
   ]
  },
  {
   "cell_type": "code",
   "execution_count": 28,
   "id": "23e4dd59-d8e8-4009-b879-0070828991b8",
   "metadata": {},
   "outputs": [
    {
     "name": "stdout",
     "output_type": "stream",
     "text": [
      "              precision    recall  f1-score   support\n",
      "\n",
      "           0       0.85      0.92      0.88        25\n",
      "           1       0.94      0.89      0.91        36\n",
      "\n",
      "    accuracy                           0.90        61\n",
      "   macro avg       0.90      0.90      0.90        61\n",
      "weighted avg       0.90      0.90      0.90        61\n",
      "\n",
      "Confusion matrix, without normalization\n",
      "[[23  2]\n",
      " [ 4 32]]\n"
     ]
    },
    {
     "data": {
      "image/png": "[encoded data removed]",
      "text/plain": [
       "<Figure size 640x480 with 2 Axes>"
      ]
     },
     "metadata": {},
     "output_type": "display_data"
    }
   ],
   "source": [
    "Scnf_matrix = confusion_matrix(y_test , Svm_yhat , labels=[0 , 1])\n",
    "np.set_printoptions(precision= 2)\n",
    "\n",
    "print(classification_report(y_test , Svm_yhat))\n",
    "plot_confusion_matrix(Scnf_matrix , classes = [\"low chance(0)\" , \"high chance(1)\"])"
   ]
  },
  {
   "cell_type": "markdown",
   "id": "7439cd7e-e356-4ee4-9c36-3f5c54519989",
   "metadata": {},
   "source": [
    "# KNN Model"
   ]
  },
  {
   "cell_type": "code",
   "execution_count": 31,
   "id": "d200e23e-ac50-4f2b-9007-f934c2d9f9e5",
   "metadata": {},
   "outputs": [
    {
     "data": {
      "text/plain": [
       "array([0.77, 0.77, 0.8 , 0.8 , 0.8 , 0.82, 0.84, 0.82, 0.82])"
      ]
     },
     "execution_count": 31,
     "metadata": {},
     "output_type": "execute_result"
    }
   ],
   "source": [
    "Ks = 10\n",
    "mean_acc = np.zeros((Ks-1))\n",
    "std_acc = np.zeros((Ks-1))\n",
    "for k in range(1 , Ks):\n",
    "    neigh = KNeighborsClassifier(n_neighbors = k)\n",
    "    neigh.fit(X_train , y_train)\n",
    "    y_hat = neigh.predict(X_test)\n",
    "    mean_acc[k-1] = metrics.accuracy_score(y_test , y_hat)\n",
    "    std_acc[k-1]= np.std(y_hat==y_test)/np.sqrt(y_hat.shape[0])\n",
    "mean_acc"
   ]
  },
  {
   "cell_type": "code",
   "execution_count": 33,
   "id": "4649a21c-4307-4364-882c-3962b7ed7aa8",
   "metadata": {},
   "outputs": [
    {
     "name": "stdout",
     "output_type": "stream",
     "text": [
      "best K is 7 , with accuracy 0.84\n"
     ]
    }
   ],
   "source": [
    "print(f\"best K is {mean_acc.argmax()+1} , with accuracy %.2f\"%mean_acc.max())"
   ]
  },
  {
   "cell_type": "code",
   "execution_count": 35,
   "id": "76d4b68e-d1b3-4d92-9e53-2370694c6652",
   "metadata": {},
   "outputs": [
    {
     "data": {
      "image/png": "[encoded data removed]",
      "text/plain": [
       "<Figure size 640x480 with 1 Axes>"
      ]
     },
     "metadata": {},
     "output_type": "display_data"
    }
   ],
   "source": [
    "plt.plot(range(1,Ks) , mean_acc , \"g\")\n",
    "plt.fill_between(range(1,Ks) , mean_acc-1*std_acc , mean_acc+1*std_acc , alpha = 0.1)\n",
    "plt.fill_between(range(1,Ks) , mean_acc-3*std_acc , mean_acc+3*std_acc , alpha = 0.1 , color=\"green\")\n",
    "plt.legend((\"Accuracy\" , \"+/-1xstd\", \"+/-3xstd\"))\n",
    "plt.xlabel(\"number of Ks\")\n",
    "plt.ylabel(\"Accuracy\")\n",
    "plt.tight_layout()\n",
    "plt.show()"
   ]
  },
  {
   "cell_type": "code",
   "execution_count": 37,
   "id": "ebd7220c-a00f-4c97-8674-29e8535347bb",
   "metadata": {},
   "outputs": [
    {
     "name": "stdout",
     "output_type": "stream",
     "text": [
      "              precision    recall  f1-score   support\n",
      "\n",
      "           0       0.77      0.80      0.78        25\n",
      "           1       0.86      0.83      0.85        36\n",
      "\n",
      "    accuracy                           0.82        61\n",
      "   macro avg       0.81      0.82      0.81        61\n",
      "weighted avg       0.82      0.82      0.82        61\n",
      "\n",
      "Confusion matrix, without normalization\n",
      "[[21  4]\n",
      " [ 6 30]]\n"
     ]
    },
    {
     "data": {
      "image/png": "[encoded data removed]",
      "text/plain": [
       "<Figure size 640x480 with 2 Axes>"
      ]
     },
     "metadata": {},
     "output_type": "display_data"
    }
   ],
   "source": [
    "neigh = KNeighborsClassifier(n_neighbors = 7)\n",
    "neigh.fit(X_train , y_train)\n",
    "Knn_yhat = neigh.predict(X_test)\n",
    "\n",
    "Kcnf_matrix = confusion_matrix(y_test , Knn_yhat , labels=[0 , 1])\n",
    "np.set_printoptions(precision= 2)\n",
    "\n",
    "print(classification_report(y_test , y_hat))\n",
    "plot_confusion_matrix(Kcnf_matrix , classes = [\"low chance(0)\" , \"high chance(1)\"])"
   ]
  },
  {
   "cell_type": "markdown",
   "id": "eac92d26-b7a7-4a2c-92b5-8bc3669f9ed4",
   "metadata": {},
   "source": [
    "# Logistic Regression"
   ]
  },
  {
   "cell_type": "code",
   "execution_count": 40,
   "id": "1c063eae-7e4d-4f85-8187-f5766295b137",
   "metadata": {},
   "outputs": [
    {
     "name": "stdout",
     "output_type": "stream",
     "text": [
      "lbfgs :f1_socre = 0.9000\n",
      "lbfgs :jaccard_score = 0.8537\n",
      "liblinear :f1_socre = 0.8849\n",
      "liblinear :jaccard_score = 0.8250\n",
      "newton-cg :f1_socre = 0.9000\n",
      "newton-cg :jaccard_score = 0.8537\n",
      "newton-cholesky :f1_socre = 0.9000\n",
      "newton-cholesky :jaccard_score = 0.8537\n",
      "sag :f1_socre = 0.9000\n",
      "sag :jaccard_score = 0.8537\n",
      "saga :f1_socre = 0.9000\n",
      "saga :jaccard_score = 0.8537\n"
     ]
    }
   ],
   "source": [
    "solvers = ['lbfgs', 'liblinear', 'newton-cg', 'newton-cholesky', 'sag', 'saga']\n",
    "score = {}\n",
    "for solver in solvers:\n",
    "    LR = LogisticRegression(C=0.01 , solver=solver)\n",
    "    LR.fit(X_train , y_train)\n",
    "    yhat_=LR.predict(X_test)\n",
    "    f1_sc = metrics.f1_score(y_test , yhat_ , average = \"weighted\")\n",
    "    jac_sc = metrics.jaccard_score(y_test , yhat_ , pos_label = 1)\n",
    "    score.update({solver:f1_sc})\n",
    "    print(solver , \":f1_socre = %.4f\"%f1_sc)\n",
    "    print(solver , \":jaccard_score = %.4f\"%jac_sc)"
   ]
  },
  {
   "cell_type": "code",
   "execution_count": 42,
   "id": "63308b84-b165-4f42-8c21-da0a2b1977ee",
   "metadata": {},
   "outputs": [
    {
     "name": "stdout",
     "output_type": "stream",
     "text": [
      "best solver is saga with score:0.90\n"
     ]
    }
   ],
   "source": [
    "max_score = max(score.values())\n",
    "best_kernel = max(score , key=score.get)\n",
    "print(\"best solver is\",solver,\"with score:%.2f\"%max_score)"
   ]
  },
  {
   "cell_type": "code",
   "execution_count": 44,
   "id": "c31a3dc5-ee96-4f92-8bd7-01879d72d677",
   "metadata": {},
   "outputs": [],
   "source": [
    "LR = LogisticRegression(C=0.01 , solver=\"saga\")\n",
    "LR.fit(X_train , y_train)\n",
    "Lr_yhat=LR.predict(X_test)"
   ]
  },
  {
   "cell_type": "code",
   "execution_count": 46,
   "id": "a6ed6f6c-dc46-4a17-8121-c3aa80277fe2",
   "metadata": {},
   "outputs": [
    {
     "name": "stdout",
     "output_type": "stream",
     "text": [
      "              precision    recall  f1-score   support\n",
      "\n",
      "           0       0.95      0.80      0.87        25\n",
      "           1       0.88      0.97      0.92        36\n",
      "\n",
      "    accuracy                           0.90        61\n",
      "   macro avg       0.91      0.89      0.90        61\n",
      "weighted avg       0.91      0.90      0.90        61\n",
      "\n",
      "Confusion matrix, without normalization\n",
      "[[20  5]\n",
      " [ 1 35]]\n"
     ]
    },
    {
     "data": {
      "image/png": "[encoded data removed]",
      "text/plain": [
       "<Figure size 640x480 with 2 Axes>"
      ]
     },
     "metadata": {},
     "output_type": "display_data"
    }
   ],
   "source": [
    "Lcnf_matrix = confusion_matrix(y_test , Lr_yhat , labels=[0 , 1])\n",
    "np.set_printoptions(precision= 2)\n",
    "\n",
    "print(classification_report(y_test , Lr_yhat))\n",
    "plot_confusion_matrix(Lcnf_matrix , classes = [\"low chance(0)\" , \"high chance(1)\"])"
   ]
  },
  {
   "cell_type": "code",
   "execution_count": 48,
   "id": "d663ab15-6412-4dc3-81ca-2dde9c054cca",
   "metadata": {},
   "outputs": [
    {
     "name": "stdout",
     "output_type": "stream",
     "text": [
      "SVM : \n",
      "                 precision    recall  f1-score   support\n",
      "\n",
      "           0       0.85      0.92      0.88        25\n",
      "           1       0.94      0.89      0.91        36\n",
      "\n",
      "    accuracy                           0.90        61\n",
      "   macro avg       0.90      0.90      0.90        61\n",
      "weighted avg       0.90      0.90      0.90        61\n",
      "\n",
      "-----------------------------------------------------------\n",
      "Logistic Regression : \n",
      "                 precision    recall  f1-score   support\n",
      "\n",
      "           0       0.95      0.80      0.87        25\n",
      "           1       0.88      0.97      0.92        36\n",
      "\n",
      "    accuracy                           0.90        61\n",
      "   macro avg       0.91      0.89      0.90        61\n",
      "weighted avg       0.91      0.90      0.90        61\n",
      "\n",
      "-----------------------------------------------------------\n",
      "KNN : \n",
      "                 precision    recall  f1-score   support\n",
      "\n",
      "           0       0.78      0.84      0.81        25\n",
      "           1       0.88      0.83      0.86        36\n",
      "\n",
      "    accuracy                           0.84        61\n",
      "   macro avg       0.83      0.84      0.83        61\n",
      "weighted avg       0.84      0.84      0.84        61\n",
      "\n"
     ]
    }
   ],
   "source": [
    "print(f\"\"\"SVM : \n",
    "   {classification_report(y_test , Svm_yhat)}\"\"\")\n",
    "print(\"-----------------------------------------------------------\")\n",
    "print(f\"\"\"Logistic Regression : \n",
    "   {classification_report(y_test , Lr_yhat)}\"\"\")\n",
    "print(\"-----------------------------------------------------------\")\n",
    "print(f\"\"\"KNN : \n",
    "   {classification_report(y_test , Knn_yhat)}\"\"\")"
   ]
  },
  {
   "cell_type": "markdown",
   "id": "7698f6bd-c9d5-49ea-9ca5-93fc7e92b6c7",
   "metadata": {},
   "source": [
    "### Prediction Function\n",
    "A function is created to predict heart disease using the trained model for new inputs."
   ]
  },
  {
   "cell_type": "code",
   "execution_count": 56,
   "id": "7feefab7-2415-4258-9f48-33ad09c0d468",
   "metadata": {},
   "outputs": [],
   "source": [
    "encoders = {\n",
    "    'sex': LabelEncoder().fit([\"female\", \"male\"]),\n",
    "    'cp': LabelEncoder().fit([\"direct pain\", \"Indirect pain\", \"Non-cardiac pain\", \"asymptomatic\"]),\n",
    "    'fbs': LabelEncoder().fit([\"no\", \"yes\"]),\n",
    "    'restecg': LabelEncoder().fit([\"normal\", \"abnormal st\", \"big left ventricle\"]),\n",
    "    'exng': LabelEncoder().fit([\"no\", \"yes\"]),\n",
    "    'thall': LabelEncoder().fit([\"\", \"Normal\", \"Fixed defect\", \"Reversible defect\"]),\n",
    "    'slp': LabelEncoder().fit([\"Downsloping\", \"Flat\", \"Upsloping\"])}\n",
    "\n",
    "def predicting_HeartDisease(model , age, sex, cp, trtbps, chol, fbs, restecg, thalachh,\n",
    "       exng, oldpeak, slp, caa, thall):\n",
    "    data = pd.DataFrame({\n",
    "        'age':[age], \n",
    "        'sex':[sex], \n",
    "        'cp':[cp], \n",
    "        'trtbps':[trtbps], \n",
    "        'chol':[chol], \n",
    "        'fbs':[fbs], \n",
    "        'restecg':[restecg], \n",
    "        'thalachh':[thalachh],\n",
    "       'exng':[exng], \n",
    "        'oldpeak':[oldpeak], \n",
    "        'slp':[slp], \n",
    "        'caa':[caa], \n",
    "        'thall':[thall]\n",
    "    })\n",
    "    features = ['sex', 'cp', 'fbs', 'restecg','exng', 'thall' , 'slp']\n",
    "    for f in features:\n",
    "        data[f]=encoders[f].transform(data[f])\n",
    "    data = scaler.transform(data)\n",
    "    predicted_value = model.predict(data)\n",
    "    if predicted_value==1:\n",
    "        return(\"High Chance\")\n",
    "    else:\n",
    "        return(\"low chance\")"
   ]
  },
  {
   "cell_type": "markdown",
   "id": "1a95f98a-38f0-42a3-8623-729f3a4f2ba7",
   "metadata": {},
   "source": [
    "### Making a Prediction\n",
    "A sample prediction is made using the prediction function with hardcoded values for a new patient"
   ]
  },
  {
   "cell_type": "code",
   "execution_count": 58,
   "id": "7c102450-fe11-4a1a-a2e8-738c088d10f3",
   "metadata": {},
   "outputs": [
    {
     "name": "stdout",
     "output_type": "stream",
     "text": [
      "High Chance\n"
     ]
    }
   ],
   "source": [
    "age = 41 \n",
    "sex = \"female\" \n",
    "cp = \"direct pain\"\n",
    "trtbps = 120\n",
    "chol = 250\n",
    "fbs = \"no\"\n",
    "restecg = \"abnormal st\"\n",
    "thalachh= 162\n",
    "exng = \"no\" \n",
    "oldpeak = 0.6\n",
    "slp= \"Flat\"\n",
    "caa = 1 \n",
    "thall=\"Fixed defect\"\n",
    "\n",
    "prediction = predicting_HeartDisease(LR , age, sex, cp, trtbps, chol, fbs, restecg, thalachh, exng, oldpeak, slp, caa, thall )\n",
    "print(prediction)"
   ]
  },
  {
   "cell_type": "markdown",
   "id": "0be731f0-1a9d-4261-a882-5061bec29e92",
   "metadata": {},
   "source": [
    "## **Conclusion**\n",
    "\n",
    "In this project, we explored three different machine learning models — Support Vector Machine (SVM), Logistic Regression, and K-Nearest Neighbors (KNN) — to predict heart disease using a medical dataset. After training and evaluating each model on the test data, we compared their performance based on key classification metrics: precision, recall, and F1-score.\n",
    "\n",
    "### **Model Performance Overview**\n",
    "\n",
    "- **Support Vector Machine (SVM)**: \n",
    "  - **Accuracy**: 90%\n",
    "  - **F1-score**: 0.88 for class 0, 0.91 for class 1\n",
    "  - SVM demonstrated balanced performance across both classes, with a slightly higher F1-score for predicting heart disease (class 1). Its recall for class 0 (non-heart disease) was notably strong, indicating it was better at identifying patients without heart disease.\n",
    "\n",
    "- **Logistic Regression**: \n",
    "  - **Accuracy**: 90%\n",
    "  - **F1-score**: 0.87 for class 0, 0.92 for class 1\n",
    "  - Logistic Regression achieved similar accuracy to SVM but showed a higher precision for predicting class 0 (non-heart disease). This suggests that the model was more conservative in classifying patients as not having heart disease, while maintaining a strong recall for predicting patients with heart disease (class 1).\n",
    "\n",
    "- **K-Nearest Neighbors (KNN)**:\n",
    "  - **Accuracy**: 84%\n",
    "  - **F1-score**: 0.81 for class 0, 0.86 for class 1\n",
    "  - KNN had the lowest accuracy among the three models, with a slightly lower F1-score for both classes. While its performance was decent, especially for predicting heart disease, it didn’t generalize as well as SVM or Logistic Regression.\n",
    "\n",
    "### **Conclusion**\n",
    "Both **SVM** and **Logistic Regression** achieved an accuracy of 90%, outperforming **KNN** (84%). Between the two, Logistic Regression provided slightly better precision and recall for identifying patients with heart disease (class 1), while SVM was more balanced across both classes. \n",
    "\n",
    "Logistic Regression might be the preferred model when false negatives (i.e., failing to detect heart disease) are a critical concern, due to its higher recall for class 1. However, SVM’s balanced performance could be useful when a more conservative and evenly distributed prediction across both classes is needed.\n",
    "\n",
    "### **Future Work**\n",
    "To further improve these models, future work could explore hyperparameter tuning, ensemble methods, or deeper exploration of feature selection techniques. Moreover, adding more data or using techniques like cross-validation can help further refine model performance and generalization."
   ]
  },
  {
   "cell_type": "code",
   "execution_count": null,
   "id": "5cff3001-b8b9-4b80-9970-afdcacb3e3fa",
   "metadata": {},
   "outputs": [],
   "source": []
  }
 ],
 "metadata": {
  "kernelspec": {
   "display_name": "Python 3 (ipykernel)",
   "language": "python",
   "name": "python3"
  },
  "language_info": {
   "codemirror_mode": {
    "name": "ipython",
    "version": 3
   },
   "file_extension": ".py",
   "mimetype": "text/x-python",
   "name": "python",
   "nbconvert_exporter": "python",
   "pygments_lexer": "ipython3",
   "version": "3.11.4"
  }
 },
 "nbformat": 4,
 "nbformat_minor": 5
}
